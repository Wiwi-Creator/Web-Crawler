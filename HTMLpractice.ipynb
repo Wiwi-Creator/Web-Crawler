{
 "cells": [
  {
   "cell_type": "markdown",
   "metadata": {},
   "source": [
    "BeautifulSoup各項套件(Package)的Method使用"
   ]
  },
  {
   "cell_type": "markdown",
   "metadata": {},
   "source": [
    "prettify() : 可以透過此Method，輸出排版後的內容"
   ]
  },
  {
   "cell_type": "code",
   "execution_count": null,
   "metadata": {},
   "outputs": [],
   "source": [
    "from urllib import response\n",
    "import requests\n",
    "from bs4 import BeautifulSoup\n",
    "res = requests.get(\"https://travel.ettoday.net/category/%E6%A1%83%E5%9C%92/\")\n",
    "soup = BeautifulSoup(res.text,\"html.parser\") #傳入取回的HTML結構字串,並指定以HTML解析型態建立該物件\n",
    "print(soup.prettify())"
   ]
  },
  {
   "cell_type": "markdown",
   "metadata": {},
   "source": [
    "利用BeautifulSoup套件(Package)所提供的以下方法，來做節點的搜尋。\n",
    "find() : 指搜尋第一個符合條件的節點"
   ]
  },
  {
   "cell_type": "code",
   "execution_count": 6,
   "metadata": {},
   "outputs": [
    {
     "name": "stdout",
     "output_type": "stream",
     "text": [
      "<h3 itemprop=\"headline\">\n",
      "<a href=\"https://travel.ettoday.net/article/2215187.htm\" itemprop=\"url\" title=\"LEGO火車來送餐！朝聖桃園「樂高主題親子餐廳」吃披薩、組裝積木\">LEGO火車來送餐！朝聖桃園「樂高主題親子餐廳」吃披薩、組裝積木</a>\n",
      "</h3>\n"
     ]
    }
   ],
   "source": [
    "from urllib import response\n",
    "import requests\n",
    "from bs4 import BeautifulSoup\n",
    "res = requests.get(\"https://travel.ettoday.net/category/%E6%A1%83%E5%9C%92/\")\n",
    "soup = BeautifulSoup(res.text,\"html.parser\") #傳入取回的HTML結構字串,並指定以HTML解析型態建立該物件\n",
    "result = soup.find(\"h3\")\n",
    "print(result)"
   ]
  },
  {
   "cell_type": "markdown",
   "metadata": {},
   "source": [
    "find_all() : 搜尋網頁中所有符合條件的節點，傳入要搜尋的HTML標籤名稱。若要搜尋特定條件，可以利用參數(Keyword Argument)指定屬性值，也可以利用limit關鍵字參數(Keyword Argument)限制搜尋的節點數量"
   ]
  },
  {
   "cell_type": "code",
   "execution_count": 7,
   "metadata": {},
   "outputs": [
    {
     "name": "stdout",
     "output_type": "stream",
     "text": [
      "[<h3 itemprop=\"headline\">\n",
      "<a href=\"https://travel.ettoday.net/article/2215187.htm\" itemprop=\"url\" title=\"LEGO火車來送餐！朝聖桃園「樂高主題親子餐廳」吃披薩、組裝積木\">LEGO火車來送餐！朝聖桃園「樂高主題親子餐廳」吃披薩、組裝積木</a>\n",
      "</h3>, <h3 itemprop=\"headline\">\n",
      "<a href=\"https://travel.ettoday.net/article/2220824.htm\" itemprop=\"url\" title=\"限量300張！Xpark首推「書籤型門票」即起開賣　2款式有企鵝圖案\">限量300張！Xpark首推「書籤型門票」即起開賣　2款式有企鵝圖案</a>\n",
      "</h3>, <h3 itemprop=\"headline\">\n",
      "<a href=\"https://travel.ettoday.net/article/2220676.htm\" itemprop=\"url\" title=\"紫藤、流蘇花同步爆滿！北部3處「紫白私房秘境」免費看\">紫藤、流蘇花同步爆滿！北部3處「紫白私房秘境」免費看</a>\n",
      "</h3>]\n"
     ]
    }
   ],
   "source": [
    "from urllib import response\n",
    "import requests\n",
    "from bs4 import BeautifulSoup\n",
    "res = requests.get(\"https://travel.ettoday.net/category/%E6%A1%83%E5%9C%92/\")\n",
    "soup = BeautifulSoup(res.text,\"html.parser\") #傳入取回的HTML結構字串,並指定以HTML解析型態建立該物件\n",
    "result = soup.find_all(\"h3\",itemprop=\"headline\",limit = 3)\n",
    "print(result)"
   ]
  },
  {
   "cell_type": "markdown",
   "metadata": {},
   "source": [
    "select() : 僅透過css屬性做HTML節點的搜尋，可使用BeautifilSoup套件的select()"
   ]
  },
  {
   "cell_type": "code",
   "execution_count": 8,
   "metadata": {},
   "outputs": [
    {
     "name": "stdout",
     "output_type": "stream",
     "text": [
      "[<p class=\"summary\" itemprop=\"description\">樂高積木迷看過來！桃園龍潭區一間由貨櫃屋改造而成的繽紛彩色建築，以「樂高積木」為主題，結合益智、科技與美食，打造出寓教於樂的親子餐廳，不只有得吃、有得玩，還能大拍特拍，休假日不妨帶著小孩一同進入療癒的樂高世界。</p>, <p class=\"summary\" itemprop=\"description\">在陽明山竹子湖海芋季後，「2022桃園彩色海芋季」將在本週六於溪海休閒農業區登場，今年一共種植7.2萬株彩色海芋，目前已盛開8成。經氣象預報顯示，預計連假第三天（4/4）天氣轉晴，花控們可以著手計畫了。                                                <em content=\"2022-03-29T17:42:00+08:00\" itemprop=\"datePublished\">(2022-03-29 17:42)</em>\n",
      "</p>, <p class=\"summary\" itemprop=\"description\">到森林中住一晚，近距離與螢火蟲浪漫相遇！桃園東眼山的螢火蟲季將於4月23日至5月14日展開，其中，一泊二食的「火焰蟲傳說之夜宿東眼山」將於4月23日和4月30日至登場，明（29日）早上9點開放報名。                                                <em content=\"2022-03-28T10:42:00+08:00\" itemprop=\"datePublished\">(2022-03-28 10:42)</em>\n",
      "</p>]\n"
     ]
    }
   ],
   "source": [
    "from urllib import response\n",
    "import requests\n",
    "from bs4 import BeautifulSoup\n",
    "res = requests.get(\"https://travel.ettoday.net/category/%E6%A1%83%E5%9C%92/\")\n",
    "soup = BeautifulSoup(res.text,\"html.parser\") #傳入取回的HTML結構字串,並指定以HTML解析型態建立該物件\n",
    "title = soup.select(\".summary\",limit = 3)\n",
    "print(title)"
   ]
  },
  {
   "cell_type": "markdown",
   "metadata": {},
   "source": [
    "find_parents() : 向上的搜尋HTML節點，則可使用BeautifilSoup套件的find_parents()"
   ]
  },
  {
   "cell_type": "code",
   "execution_count": 13,
   "metadata": {},
   "outputs": [
    {
     "name": "stdout",
     "output_type": "stream",
     "text": [
      "<a href=\"https://travel.ettoday.net/article/2215187.htm\" itemprop=\"url\" title=\"LEGO火車來送餐！朝聖桃園「樂高主題親子餐廳」吃披薩、組裝積木\">LEGO火車來送餐！朝聖桃園「樂高主題親子餐廳」吃披薩、組裝積木</a>\n"
     ]
    }
   ],
   "source": [
    "from urllib import response\n",
    "import requests\n",
    "from bs4 import BeautifulSoup\n",
    "res = requests.get(\"https://travel.ettoday.net/category/%E6%A1%83%E5%9C%92/\")\n",
    "soup = BeautifulSoup(res.text,\"html.parser\") #傳入取回的HTML結構字串,並指定以HTML解析型態建立該物件\n",
    "result = soup.find(\"a\",itemprop = \"url\")\n",
    "title = result.find_parents(\"h3\")\n",
    "print(result)"
   ]
  },
  {
   "cell_type": "markdown",
   "metadata": {},
   "source": [
    "find_previous_siblings() : 若需搜尋同一層級中，前一個節點，則可使用BeautifilSoup套件的find_previous_siblings()"
   ]
  },
  {
   "cell_type": "code",
   "execution_count": 17,
   "metadata": {},
   "outputs": [
    {
     "name": "stdout",
     "output_type": "stream",
     "text": [
      "[<a class=\"pic\" href=\"https://travel.ettoday.net/article/2215187.htm\" title=\"LEGO火車來送餐！朝聖桃園「樂高主題親子餐廳」吃披薩、組裝積木\">\n",
      "<img alt=\"LEGO火車來送餐！朝聖桃園「樂高主題親子餐廳」吃披薩、組裝積木\" data-original=\"https://cdn2.ettoday.net/images/6248/c6248407.jpg\" itemprop=\"image\" onerror=\"this.src='//cdn2.ettoday.net/style/travel/images/fb_ettoday_travel_logo.jpg'\" src=\"https://cdn2.ettoday.net/style/misc/loading_200x150.gif\"/>\n",
      "</a>]\n"
     ]
    }
   ],
   "source": [
    "from urllib import response\n",
    "import requests\n",
    "from bs4 import BeautifulSoup\n",
    "res = requests.get(\"https://travel.ettoday.net/category/%E6%A1%83%E5%9C%92/\")\n",
    "soup = BeautifulSoup(res.text,\"html.parser\") #傳入取回的HTML結構字串,並指定以HTML解析型態建立該物件\n",
    "result = soup.find(\"h3\",itemprop = \"headline\")\n",
    "node = result.find_previous_siblings(\"a\")\n",
    "print(node)"
   ]
  },
  {
   "cell_type": "markdown",
   "metadata": {},
   "source": [
    "find_next_siblings() : 若需搜尋同一層級中，後一個節點，則可使用BeautifilSoup套件的find_next_siblings()"
   ]
  },
  {
   "cell_type": "code",
   "execution_count": 18,
   "metadata": {},
   "outputs": [
    {
     "name": "stdout",
     "output_type": "stream",
     "text": [
      "[<p class=\"summary\" itemprop=\"description\">樂高積木迷看過來！桃園龍潭區一間由貨櫃屋改造而成的繽紛彩色建築，以「樂高積木」為主題，結合益智、科技與美食，打造出寓教於樂的親子餐廳，不只有得吃、有得玩，還能大拍特拍，休假日不妨帶著小孩一同進入療癒的樂高世界。</p>]\n"
     ]
    }
   ],
   "source": [
    "from urllib import response\n",
    "import requests\n",
    "from bs4 import BeautifulSoup\n",
    "res = requests.get(\"https://travel.ettoday.net/category/%E6%A1%83%E5%9C%92/\")\n",
    "soup = BeautifulSoup(res.text,\"html.parser\") #傳入取回的HTML結構字串,並指定以HTML解析型態建立該物件\n",
    "result = soup.find(\"h3\",itemprop = \"headline\")\n",
    "node = result.find_next_siblings(\"p\")\n",
    "print(node)"
   ]
  },
  {
   "cell_type": "markdown",
   "metadata": {},
   "source": [
    "get() : 取得某一節點的屬性值，則可利用BeautifilSoup套件的get()"
   ]
  },
  {
   "cell_type": "code",
   "execution_count": 30,
   "metadata": {},
   "outputs": [
    {
     "name": "stdout",
     "output_type": "stream",
     "text": [
      "<a href=\"https://travel.ettoday.net/article/2215187.htm\" itemprop=\"url\" title=\"LEGO火車來送餐！朝聖桃園「樂高主題親子餐廳」吃披薩、組裝積木\">LEGO火車來送餐！朝聖桃園「樂高主題親子餐廳」吃披薩、組裝積木</a>\n",
      "<a href=\"https://travel.ettoday.net/article/2220824.htm\" itemprop=\"url\" title=\"限量300張！Xpark首推「書籤型門票」即起開賣　2款式有企鵝圖案\">限量300張！Xpark首推「書籤型門票」即起開賣　2款式有企鵝圖案</a>\n",
      "<a href=\"https://travel.ettoday.net/article/2220676.htm\" itemprop=\"url\" title=\"紫藤、流蘇花同步爆滿！北部3處「紫白私房秘境」免費看\">紫藤、流蘇花同步爆滿！北部3處「紫白私房秘境」免費看</a>\n",
      "<a href=\"https://travel.ettoday.net/article/2218635.htm\" itemprop=\"url\" title=\"桃園海芋季實景圖曝光！7.2萬株開8成　演唱會活動、免費接駁一次看\">桃園海芋季實景圖曝光！7.2萬株開8成　演唱會活動、免費接駁一次看</a>\n",
      "<a href=\"https://travel.ettoday.net/article/2217370.htm\" itemprop=\"url\" title=\"賞螢、森林浴秒忘憂！桃園「東眼山一泊二食」明早開搶\">賞螢、森林浴秒忘憂！桃園「東眼山一泊二食」明早開搶</a>\n",
      "<a href=\"https://travel.ettoday.net/article/2216435.htm\" itemprop=\"url\" title=\"桃園台茂兒童連假有180秒煙火秀　在5000坪公園野餐、爽逛20攤市集\">桃園台茂兒童連假有180秒煙火秀　在5000坪公園野餐、爽逛20攤市集</a>\n",
      "<a href=\"https://travel.ettoday.net/article/2216039.htm\" itemprop=\"url\" title=\"30隻鯨魚、乖乖齊升天！「桃園風箏節」今明2天放飛　交通一次看\">30隻鯨魚、乖乖齊升天！「桃園風箏節」今明2天放飛　交通一次看</a>\n",
      "<a href=\"https://travel.ettoday.net/article/2212611.htm\" itemprop=\"url\" title=\"「桃園彩色海芋季」要來了！7.2萬株海芋創新高　愛神8大裝置搶先看\">「桃園彩色海芋季」要來了！7.2萬株海芋創新高　愛神8大裝置搶先看</a>\n",
      "<a href=\"https://travel.ettoday.net/article/2212293.htm\" itemprop=\"url\" title=\"桃園龍岡米干節來了！一日遊最低299元　還能參加潑水節、火把節\">桃園龍岡米干節來了！一日遊最低299元　還能參加潑水節、火把節</a>\n",
      "-----------------------------------------分隔線--------------------------------------\n",
      "https://travel.ettoday.net/article/2215187.htm\n",
      "https://travel.ettoday.net/article/2220824.htm\n",
      "https://travel.ettoday.net/article/2220676.htm\n",
      "https://travel.ettoday.net/article/2218635.htm\n",
      "https://travel.ettoday.net/article/2217370.htm\n",
      "https://travel.ettoday.net/article/2216435.htm\n",
      "https://travel.ettoday.net/article/2216039.htm\n",
      "https://travel.ettoday.net/article/2212611.htm\n",
      "https://travel.ettoday.net/article/2212293.htm\n"
     ]
    }
   ],
   "source": [
    "from urllib import response\n",
    "import requests\n",
    "from bs4 import BeautifulSoup\n",
    "res = requests.get(\"https://travel.ettoday.net/category/%E6%A1%83%E5%9C%92/\")\n",
    "soup = BeautifulSoup(res.text,\"html.parser\") #傳入取回的HTML結構字串,並指定以HTML解析型態建立該物件\n",
    "result = soup.find_all(\"h3\",itemprop = \"headline\") #先用find_all()搜尋網頁中所有<h3>標籤且屬性值為headline的節點\n",
    "for title_select_one in result : #透過for迴圈讀取所有list中節點\n",
    "    print(title_select_one.select_one(\"a\"))\n",
    "print(\"-----------------------------------------分隔線--------------------------------------\")\n",
    "for title_get in result : #利用get()取得href屬性值的網址\n",
    "    print(title_get.select_one(\"a\").get(\"href\"))"
   ]
  },
  {
   "cell_type": "markdown",
   "metadata": {},
   "source": [
    "getText() : 若想取得<a> 標籤的連結文字，則可使用BeautifilSoup套件的getText()"
   ]
  },
  {
   "cell_type": "code",
   "execution_count": 31,
   "metadata": {},
   "outputs": [
    {
     "name": "stdout",
     "output_type": "stream",
     "text": [
      "LEGO火車來送餐！朝聖桃園「樂高主題親子餐廳」吃披薩、組裝積木\n",
      "限量300張！Xpark首推「書籤型門票」即起開賣　2款式有企鵝圖案\n",
      "紫藤、流蘇花同步爆滿！北部3處「紫白私房秘境」免費看\n",
      "桃園海芋季實景圖曝光！7.2萬株開8成　演唱會活動、免費接駁一次看\n",
      "賞螢、森林浴秒忘憂！桃園「東眼山一泊二食」明早開搶\n",
      "桃園台茂兒童連假有180秒煙火秀　在5000坪公園野餐、爽逛20攤市集\n",
      "30隻鯨魚、乖乖齊升天！「桃園風箏節」今明2天放飛　交通一次看\n",
      "「桃園彩色海芋季」要來了！7.2萬株海芋創新高　愛神8大裝置搶先看\n",
      "桃園龍岡米干節來了！一日遊最低299元　還能參加潑水節、火把節\n"
     ]
    }
   ],
   "source": [
    "from urllib import response\n",
    "import requests\n",
    "from bs4 import BeautifulSoup\n",
    "res = requests.get(\"https://travel.ettoday.net/category/%E6%A1%83%E5%9C%92/\")\n",
    "soup = BeautifulSoup(res.text,\"html.parser\") #傳入取回的HTML結構字串,並指定以HTML解析型態建立該物件\n",
    "result = soup.find_all(\"h3\",itemprop = \"headline\") #先用find_all()搜尋網頁中所有<h3>標籤且屬性值為headline的節點\n",
    "for title_get in result : #利用get()取得href屬性值的網址\n",
    "    print(title_get.select_one(\"a\").getText())"
   ]
  }
 ],
 "metadata": {
  "interpreter": {
   "hash": "23300995598eec4bcf6bd89cf02d1c3675e8b2616661418dbbf5580aa901878d"
  },
  "kernelspec": {
   "display_name": "Python 3.9.11 64-bit",
   "language": "python",
   "name": "python3"
  },
  "language_info": {
   "codemirror_mode": {
    "name": "ipython",
    "version": 3
   },
   "file_extension": ".py",
   "mimetype": "text/x-python",
   "name": "python",
   "nbconvert_exporter": "python",
   "pygments_lexer": "ipython3",
   "version": "3.9.11"
  },
  "orig_nbformat": 4
 },
 "nbformat": 4,
 "nbformat_minor": 2
}
