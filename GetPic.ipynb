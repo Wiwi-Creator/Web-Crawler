{
 "cells": [
  {
   "cell_type": "markdown",
   "metadata": {},
   "source": [
    "從網頁下載圖片"
   ]
  },
  {
   "cell_type": "markdown",
   "metadata": {},
   "source": [
    "以DCARD為例，進到網頁後對該右鍵點選\"複製圖片網址\"，透過模組requests即可將網址get下來，並後續作下載至本機"
   ]
  },
  {
   "cell_type": "code",
   "execution_count": 4,
   "metadata": {},
   "outputs": [],
   "source": [
    "import requests\n",
    "pic = requests.get(\"https://imgur.dcard.tw/N2k5kV2h.jpg\") #對著圖片右鍵選複製圖片網址,將圖片GET下來\n",
    "img2 = pic.content #將GET下來圖片轉為\"二進位制\",因要以二進制存到本地端(下載)\n",
    "pic_out = open('Dcard_Cat.png','wb') #預設圖片檔名\n",
    "pic_out.write(img2) \n",
    "pic_out.close()"
   ]
  }
 ],
 "metadata": {
  "interpreter": {
   "hash": "42588fd11209419b7c81abe23e31a1d2101f60811b02170c268e57ebb57d5d9a"
  },
  "kernelspec": {
   "display_name": "Python 3.8.5 ('base')",
   "language": "python",
   "name": "python3"
  },
  "language_info": {
   "codemirror_mode": {
    "name": "ipython",
    "version": 3
   },
   "file_extension": ".py",
   "mimetype": "text/x-python",
   "name": "python",
   "nbconvert_exporter": "python",
   "pygments_lexer": "ipython3",
   "version": "3.8.5"
  },
  "orig_nbformat": 4
 },
 "nbformat": 4,
 "nbformat_minor": 2
}
