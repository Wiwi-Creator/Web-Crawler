{
 "cells": [
  {
   "cell_type": "code",
   "execution_count": 1,
   "metadata": {},
   "outputs": [
    {
     "name": "stdout",
     "output_type": "stream",
     "text": [
      "上一頁URL為:https://www.ptt.cc/bbs/MobileComm/index.html\n",
      "本頁URL為:https://www.ptt.cc/bbs/MobileComm/index.html\n",
      "本頁URL為:https://www.ptt.cc//bbs/MobileComm/index6507.html\n",
      "本頁URL為:https://www.ptt.cc//bbs/MobileComm/index6506.html\n",
      "/bbs/MobileComm/M.1648755103.A.894.html [問題] Android12遊戲內返回問題\n",
      "/bbs/MobileComm/M.1648769982.A.0D5.html [問題] 請問垃圾郵保鏢不能打密碼怎麼辦\n",
      "/bbs/MobileComm/M.1648775750.A.A0B.html [問題] 台灣之星188網路慢非常多\n",
      "/bbs/MobileComm/M.1648776768.A.BEB.html [問題] 電池沒電一次就廢了嗎？\n",
      "/bbs/MobileComm/M.1648778792.A.C07.html [購機] 小米平板5 VS Samsung Tab S7 fe\n",
      "/bbs/MobileComm/M.1648779985.A.21D.html [問題] Magsafe會干擾無線充電嗎？\n",
      "/bbs/MobileComm/M.1648780456.A.8BD.html [購機] iphone 12mini跟iphone se3\n",
      "/bbs/MobileComm/M.1648783457.A.3C7.html [購機] 續航好 有指紋辨識(側邊指紋)的手機\n",
      "/bbs/MobileComm/M.1648784855.A.67B.html [討論] 2022年販售機種整理(20220401新機大亂鬥)\n",
      "/bbs/MobileComm/M.1648788424.A.8B0.html [問題] YouTube播放清單功能失效\n",
      "/bbs/MobileComm/M.1648788672.A.21F.html [問題] 有關於陸版手機(黑鯊5 pro)在台灣使用的問題\n",
      "/bbs/MobileComm/M.1648795929.A.C8A.html [問題] realme GT大師版怎麼一直跳水?\n",
      "/bbs/MobileComm/M.1648799255.A.6F7.html [問題] 微信手機板的整理\n",
      "/bbs/MobileComm/M.1648800940.A.B96.html [新聞] 他怨iPhone「這機型」用1年變垃圾 釣一\n",
      "/bbs/MobileComm/M.1648801563.A.212.html [情報] 遠傳金幣兌換帳單折抵劵200元\n",
      "/bbs/MobileComm/M.1648802690.A.0E7.html Re: [討論] 遠傳399要下架了嗎？\n",
      "/bbs/MobileComm/M.1648806000.A.884.html [問題] 請問S22預購禮收到了嗎？\n",
      "/bbs/MobileComm/M.1648811395.A.F9F.html [購機] 30k 5G、無線充電手機推薦\n",
      "/bbs/MobileComm/M.1648811610.A.1E1.html [問題] S21 Google 相簿螢幕截圖資料夾\n"
     ]
    }
   ],
   "source": [
    "import requests\n",
    "from bs4 import BeautifulSoup\n",
    "\n",
    "url = \"https://www.ptt.cc/bbs/MobileComm/index.html\"\n",
    "print(\"上一頁URL為:\"+ url)\n",
    "for i in range(3):\n",
    "    r = requests.get(url)\n",
    "    soup = BeautifulSoup(r.text,\"html.parser\")\n",
    "    sel  = soup.select(\"div.title a\") # 標題\n",
    "    u    = soup.select(\"div.btn-group.btn-group-paging a\")\n",
    "    print(\"本頁URL為:\"+ url)\n",
    "    url  = \"https://www.ptt.cc/\" + u[1][\"href\"] #組合\"上一頁\"的網址\n",
    "\n",
    "for s in sel: #印出網址及標題\n",
    "    print(s[\"href\"],s.text)"
   ]
  }
 ],
 "metadata": {
  "interpreter": {
   "hash": "7eb6ed14552028b53752e2730022bd0e7ecbde818aad603e0efcee7aafaa1a93"
  },
  "kernelspec": {
   "display_name": "Python 3.9.11 64-bit",
   "language": "python",
   "name": "python3"
  },
  "language_info": {
   "codemirror_mode": {
    "name": "ipython",
    "version": 3
   },
   "file_extension": ".py",
   "mimetype": "text/x-python",
   "name": "python",
   "nbconvert_exporter": "python",
   "pygments_lexer": "ipython3",
   "version": "3.9.11"
  },
  "orig_nbformat": 4
 },
 "nbformat": 4,
 "nbformat_minor": 2
}
