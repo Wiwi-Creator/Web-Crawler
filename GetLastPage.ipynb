{
 "cells": [
  {
   "cell_type": "code",
   "execution_count": 1,
   "metadata": {},
   "outputs": [
    {
     "name": "stdout",
     "output_type": "stream",
     "text": [
      "上一頁網址為:https://www.ptt.cc//bbs/MobileComm/index6507.html\n"
     ]
    }
   ],
   "source": [
    "import requests\n",
    "from bs4 import BeautifulSoup\n",
    "\n",
    "a = requests.get(\"https://www.ptt.cc/bbs/MobileComm/index.html\") #將此網頁HTML 利用get()取下\n",
    "soup = BeautifulSoup(a.text,\"html.parser\") #將網頁資料存入html.parser\n",
    "sel  = soup.select(\"div.btn-group.btn-group-paging a\")  #\"上一頁\"按鈕的標籤</a>\n",
    "url  = \"https://www.ptt.cc/\" + sel[1][\"href\"] #組合\"上一頁\"的網址\n",
    "\n",
    "print(\"上一頁網址為:\" + url)"
   ]
  }
 ],
 "metadata": {
  "interpreter": {
   "hash": "7eb6ed14552028b53752e2730022bd0e7ecbde818aad603e0efcee7aafaa1a93"
  },
  "kernelspec": {
   "display_name": "Python 3.9.11 64-bit",
   "language": "python",
   "name": "python3"
  },
  "language_info": {
   "codemirror_mode": {
    "name": "ipython",
    "version": 3
   },
   "file_extension": ".py",
   "mimetype": "text/x-python",
   "name": "python",
   "nbconvert_exporter": "python",
   "pygments_lexer": "ipython3",
   "version": "3.9.11"
  },
  "orig_nbformat": 4
 },
 "nbformat": 4,
 "nbformat_minor": 2
}
